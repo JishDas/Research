{
 "cells": [
  {
   "cell_type": "code",
   "execution_count": 1,
   "metadata": {},
   "outputs": [],
   "source": [
    "import random\n",
    "import time\n",
    "\n",
    "import matplotlib.pyplot as plt\n",
    "import networkx as nx\n",
    "import numpy as np\n",
    "from torch import rand"
   ]
  },
  {
   "cell_type": "code",
   "execution_count": 2,
   "metadata": {},
   "outputs": [],
   "source": [
    "def distance(x1,y1,x2,y2):\n",
    "    return np.sqrt((x2-x1)**2+(y2-y1)**2)"
   ]
  },
  {
   "cell_type": "code",
   "execution_count": 3,
   "metadata": {},
   "outputs": [],
   "source": [
    "from queue import PriorityQueue\n",
    "def dijkstra(n,graph,start_vertex,weight):\n",
    "    D = [float('inf') for v in range(n)]\n",
    "    D[start_vertex] = 0\n",
    "    visited=[]\n",
    "\n",
    "    pq = PriorityQueue()\n",
    "    pq.put((0, start_vertex))\n",
    "\n",
    "    while not pq.empty():\n",
    "        (dist, current_vertex) = pq.get()\n",
    "        visited.append(current_vertex)\n",
    "\n",
    "        for neighbor in range(n):\n",
    "            if weight[current_vertex][neighbor] != -1:\n",
    "                distance = weight[current_vertex][neighbor]\n",
    "                if neighbor not in visited:\n",
    "                    old_cost = D[neighbor]\n",
    "                    new_cost = D[current_vertex] + distance\n",
    "                    if new_cost < old_cost:\n",
    "                        pq.put((new_cost, neighbor))\n",
    "                        D[neighbor] = new_cost\n",
    "    return D"
   ]
  },
  {
   "cell_type": "code",
   "execution_count": 11,
   "metadata": {},
   "outputs": [],
   "source": [
    "def dataset(num):\n",
    "    Max=[[1e-7,0,0] for i in range(num)]\n",
    "\n",
    "    for h in range(num):\n",
    "        n=random.randint(5,20)\n",
    "        X=rand(n,2)\n",
    "        X=X.numpy()\n",
    "        W=np.zeros((n,n))\n",
    "\n",
    "        for i in range(n):\n",
    "            for j in range(i+1,n):\n",
    "                W[i][j]=W[j][i]=distance(X[i][0],X[i][1],X[j][0],X[j][1])\n",
    "        Max[h][2]=W\n",
    "        Max[h][2]=np.pad(Max[h][2],(20-n)//2,mode='constant')\n",
    "        if(n%2!=0):\n",
    "            Max[h][2]=np.pad(Max[h][2],[(0,1),(0,1)],mode='constant')\n",
    "\n",
    "        for i in range(100):\n",
    "            for k in range(2,5):\n",
    "                t1=time.time()\n",
    "                G = nx.watts_strogatz_graph(n = n, k = k,p=random.random())\n",
    "                # pos=dict(zip(G,X))\n",
    "                t2=time.time()\n",
    "                spl=[]\n",
    "\n",
    "                for i in range(n):\n",
    "                    D=dijkstra(n,G,i,W)\n",
    "                    spl.append(D)\n",
    "                    \n",
    "                aplSum=0.\n",
    "                for i in range(n):\n",
    "                    aplSum+=np.sum(spl[i])\n",
    "                apl=aplSum/(n*(n-1))\n",
    "                acc=nx.average_clustering(G)\n",
    "                adj=nx.adjacency_matrix(G).toarray()*1.\n",
    "                adj=W*np.transpose(adj)\n",
    "                adj=np.pad(adj,(20-n)//2,mode='constant')\n",
    "\n",
    "                if(n%2!=0):\n",
    "                    adj=np.pad(adj,[(0,1),(0,1)],mode='constant')\n",
    "\n",
    "                if(t2-t1>0):\n",
    "                    v=acc/(apl*(t2-t1))\n",
    "                    if(v>=Max[h][0]):\n",
    "                        Max[h][0]=v\n",
    "                        Max[h][1]=adj\n",
    "    return Max"
   ]
  },
  {
   "cell_type": "code",
   "execution_count": 5,
   "metadata": {},
   "outputs": [],
   "source": [
    "# f=dataset(3)\n",
    "\n",
    "# from PIL import Image\n",
    "# im=Image.fromarray(f[0][1],'RGB')\n",
    "# im.show()"
   ]
  },
  {
   "cell_type": "code",
   "execution_count": 12,
   "metadata": {},
   "outputs": [],
   "source": [
    "def dataset_txt(MAX,num):\n",
    "    f1=open('Dataset3.txt','r+')\n",
    "    f1.truncate(0)\n",
    "    f2=open('Dataset4.txt','r+')\n",
    "    f2.truncate(0)\n",
    "    for h in range(num):\n",
    "        with open('Dataset3.txt','a') as f1:\n",
    "            for line in np.matrix(MAX[h][2]):\n",
    "                np.savetxt(f1,line,fmt='%.2f')\n",
    "            f1.close()\n",
    "        with open('Dataset4.txt','a') as f2:\n",
    "            for line in np.matrix(MAX[h][1]):\n",
    "                np.savetxt(f2,line,fmt='%.2f')\n",
    "            f2.close()"
   ]
  },
  {
   "cell_type": "code",
   "execution_count": 17,
   "metadata": {},
   "outputs": [],
   "source": [
    "d=dataset(2000)\n",
    "dataset_txt(d,2000)"
   ]
  }
 ],
 "metadata": {
  "kernelspec": {
   "display_name": "Python 3.7.7 64-bit",
   "language": "python",
   "name": "python3"
  },
  "language_info": {
   "codemirror_mode": {
    "name": "ipython",
    "version": 3
   },
   "file_extension": ".py",
   "mimetype": "text/x-python",
   "name": "python",
   "nbconvert_exporter": "python",
   "pygments_lexer": "ipython3",
   "version": "3.7.7"
  },
  "orig_nbformat": 4,
  "vscode": {
   "interpreter": {
    "hash": "f3221d019802a0500a535b6368987d1070055ab030a43e790cf6868ca0ff4b09"
   }
  }
 },
 "nbformat": 4,
 "nbformat_minor": 2
}
