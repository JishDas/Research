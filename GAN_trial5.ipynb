{
  "cells": [
    {
      "cell_type": "code",
      "execution_count": 2,
      "metadata": {
        "id": "FvLL0jwqePcS"
      },
      "outputs": [
        {
          "name": "stderr",
          "output_type": "stream",
          "text": [
            "2022-12-06 22:31:32.866115: W tensorflow/stream_executor/platform/default/dso_loader.cc:64] Could not load dynamic library 'libcudart.so.11.0'; dlerror: libcudart.so.11.0: cannot open shared object file: No such file or directory\n",
            "2022-12-06 22:31:32.866157: I tensorflow/stream_executor/cuda/cudart_stub.cc:29] Ignore above cudart dlerror if you do not have a GPU set up on your machine.\n"
          ]
        }
      ],
      "source": [
        "from keras import layers\n",
        "import tensorflow as tf\n",
        "import numpy as np\n",
        "import keras"
      ]
    },
    {
      "cell_type": "code",
      "execution_count": 3,
      "metadata": {
        "id": "LjHE2_SFePcd"
      },
      "outputs": [],
      "source": [
        "batch_size = 128\n",
        "num_channels = 1\n",
        "num_classes = 21\n",
        "image_size = 20\n",
        "latent_dim = 400\n",
        "epochs = 10"
      ]
    },
    {
      "cell_type": "code",
      "execution_count": 4,
      "metadata": {
        "id": "oASJ1ZTBePcf"
      },
      "outputs": [],
      "source": [
        "# # We'll use all the available examples from both the ing and test\n",
        "# # sets.\n",
        "# (x_, y_), (x_test, y_test) = keras.datasets.mnist.load_data()\n",
        "# all_digits = np.concatenate([x_, x_test])\n",
        "# all_labels = np.concatenate([y_, y_test])\n",
        "\n",
        "# # Scale the pixel values to [0, 1] range, add a channel dimension to\n",
        "# # the images, and one-hot encode the labels.\n",
        "# all_digits = all_digits.astype(\"float32\") / 255.0\n",
        "# all_digits = np.reshape(all_digits, (-1, 28, 28, 1))\n",
        "# all_labels = keras.utils.to_categorical(all_labels, 10)\n",
        "\n",
        "# # Create tf.data.Dataset.\n",
        "# dataset = tf.data.Dataset.from_tensor_slices((all_digits, all_labels))\n",
        "# dataset = dataset.shuffle(buffer_size=1024).batch(batch_size)\n",
        "\n",
        "# print(f\"Shape of ing images: {all_digits.shape}\")\n",
        "# print(f\"Shape of ing labels: {all_labels.shape}\")"
      ]
    },
    {
      "cell_type": "code",
      "execution_count": 5,
      "metadata": {
        "id": "bfmzrAeoePcg"
      },
      "outputs": [],
      "source": [
        "# Dataset generator - generating matrices\n",
        "dimension_2D = 20\n",
        "n_samples=num_classes + 1 # 20\n",
        "start=0\n",
        "end=20\n",
        "\n",
        "# Extracting the distance matrix\n",
        "f1=open('Dataset1.txt','r')\n",
        "l1=[]\n",
        "l1=[line.split() for line in f1]\n",
        "distance=[[] for i in range(len(l1)//20)]\n",
        "i1=0\n",
        "j1=0\n",
        "while True:\n",
        "    distance[i1].append(list(float(x) for x in l1[j1]))\n",
        "    if((j1+1)%20==0):\n",
        "        i1+=1\n",
        "    if(j1==len(l1)-1):\n",
        "        break\n",
        "    j1+=1\n",
        "\n",
        "# Extracting the adjency matrix without distance\n",
        "f2=open('Dataset2.txt','r')\n",
        "l2=[]\n",
        "l2=[line.split() for line in f2]\n",
        "network=[[] for i in range(len(l2)//20)]\n",
        "i2=0\n",
        "j2=0\n",
        "while True:\n",
        "    network[i2].append(list(float(x) for x in l2[j2]))\n",
        "    if((j2+1)%20==0):\n",
        "        i2+=1\n",
        "    if(j2==len(l2)-1):\n",
        "        break\n",
        "    j2+=1\n",
        "\n",
        "distance=np.array(distance)\n",
        "network=np.array(network)\n",
        "\n",
        "# Extracting the number of nodes and adding as labels\n",
        "# Data distance is a 1000*2 matrix which contains 1000 20*20*1 matrices\n",
        "f3=open('Dataset_Labels.txt','r')\n",
        "labels=[l.split() for l in f3]\n",
        "\n",
        "# Adding labels to the distance matrix\n",
        "data_distance = []\n",
        "data_distance_labels = []\n",
        "for i in range(1000):\n",
        "    data_distance.append((distance[i]))\n",
        "    data_distance_labels.append((int(labels[i][0])))\n",
        "data_distance = np.array(data_distance,dtype=object)\n",
        "data_distance_labels = np.array(data_distance_labels,dtype=object)\n",
        "data_distance_labels = data_distance_labels.astype('float32')\n",
        "\n",
        "# Adding labels to network matrix\n",
        "# Data network is a 1000*2 matrix which contains 1000 20*20*1 matrices\n",
        "\n",
        "data_network = []\n",
        "data_network_labels=[]\n",
        "for i in range(800):\n",
        "    data_network.append(network[i])\n",
        "    data_network_labels.append((int(labels[i][0])))\n",
        "data_network = np.array(data_network,dtype=object)\n",
        "data_network_labels = np.array(data_network_labels,dtype=object)\n",
        "\n",
        "data_network_test = []\n",
        "data_network_labels_test=[]\n",
        "for i in range(800,1000):\n",
        "    data_network_test.append(network[i])\n",
        "    data_network_labels_test.append((int(labels[i][0])))\n",
        "data_network_test = np.array(data_network_test,dtype = object)\n",
        "data_network_labels_test = np.array(data_network_labels_test, dtype =object)\n",
        "data_network_labels_test = data_network_labels_test.astype('float32')"
      ]
    },
    {
      "cell_type": "code",
      "execution_count": 6,
      "metadata": {
        "id": "xaaMYNvox_0Y"
      },
      "outputs": [
        {
          "name": "stderr",
          "output_type": "stream",
          "text": [
            "2022-12-06 22:31:50.770142: E tensorflow/stream_executor/cuda/cuda_driver.cc:271] failed call to cuInit: CUDA_ERROR_NO_DEVICE: no CUDA-capable device is detected\n",
            "2022-12-06 22:31:50.770201: I tensorflow/stream_executor/cuda/cuda_diagnostics.cc:156] kernel driver does not appear to be running on this host (jishnu): /proc/driver/nvidia/version does not exist\n",
            "2022-12-06 22:31:50.817413: I tensorflow/core/platform/cpu_feature_guard.cc:193] This TensorFlow binary is optimized with oneAPI Deep Neural Network Library (oneDNN) to use the following CPU instructions in performance-critical operations:  AVX2 FMA\n",
            "To enable them in other operations, rebuild TensorFlow with the appropriate compiler flags.\n"
          ]
        }
      ],
      "source": [
        "data_network = data_network.astype(\"float32\") / 255.0\n",
        "data_network = np.reshape(data_network, (-1, 20, 20, 1))\n",
        "\n",
        "data_network_labels = keras.utils.to_categorical(data_network_labels, num_classes)\n",
        "dataset = tf.data.Dataset.from_tensor_slices((data_network, data_network_labels))\n",
        "dataset = dataset.shuffle(buffer_size=1024).batch(batch_size)"
      ]
    },
    {
      "cell_type": "code",
      "execution_count": 7,
      "metadata": {
        "id": "hBJB8c873nUI"
      },
      "outputs": [],
      "source": [
        "data_network_test = data_network_test.astype(\"float32\") / 255.0\n",
        "data_network_test = np.reshape(data_network_test, (-1, 20, 20, 1))\n",
        "\n",
        "data_network_labels_test = keras.utils.to_categorical(data_network_labels_test, num_classes)\n",
        "dataset_test = tf.data.Dataset.from_tensor_slices((data_network_test, data_network_labels_test))\n",
        "dataset_test = dataset_test.shuffle(buffer_size=1024).batch(batch_size)"
      ]
    },
    {
      "cell_type": "code",
      "execution_count": 8,
      "metadata": {
        "colab": {
          "base_uri": "https://localhost:8080/"
        },
        "id": "HEBkgIxcePci",
        "outputId": "5987e63f-45d9-4830-acd1-570c4ec39d44"
      },
      "outputs": [
        {
          "name": "stdout",
          "output_type": "stream",
          "text": [
            "421 22\n"
          ]
        }
      ],
      "source": [
        "generator_in_channels = latent_dim + num_classes\n",
        "discriminator_in_channels = num_channels + num_classes\n",
        "print(generator_in_channels, discriminator_in_channels)"
      ]
    },
    {
      "cell_type": "code",
      "execution_count": 9,
      "metadata": {
        "id": "FJo5Zw03ePcl"
      },
      "outputs": [],
      "source": [
        "# Create the discriminator.\n",
        "in_shape=(dimension_2D,dimension_2D,discriminator_in_channels)\n",
        "discriminator = keras.Sequential(\n",
        "    [\n",
        "        keras.layers.InputLayer(in_shape),\n",
        "        layers.Conv2D(32, (3, 3), strides=(2, 2), padding=\"same\"),\n",
        "        layers.LeakyReLU(alpha=0.2),\n",
        "        layers.Conv2D(64, (3, 3), strides=(2, 2), padding=\"same\"),\n",
        "        layers.LeakyReLU(alpha=0.2),\n",
        "        layers.GlobalMaxPooling2D(),\n",
        "        layers.Dense(1),\n",
        "    ],\n",
        "    name=\"discriminator\",\n",
        ")\n",
        "\n",
        "# Create the generator.\n",
        "generator = keras.Sequential(\n",
        "    [\n",
        "        keras.layers.InputLayer((generator_in_channels,)),\n",
        "        # We want to generate 128 + num_classes coefficients to reshape into a\n",
        "        # 5x5x(128 + num_classes) map.\n",
        "        layers.Dense(5 * 5 * generator_in_channels),\n",
        "        layers.LeakyReLU(alpha=0.2),\n",
        "        layers.Reshape((5, 5, generator_in_channels)),\n",
        "        layers.Conv2DTranspose(128, (4, 4), strides=(2, 2), padding=\"same\"),\n",
        "        layers.LeakyReLU(alpha=0.2),\n",
        "        layers.Conv2DTranspose(128, (4, 4), strides=(2, 2), padding=\"same\"),\n",
        "        layers.LeakyReLU(alpha=0.2),\n",
        "        layers.Conv2D(1, (5, 5), padding=\"same\", activation=\"sigmoid\"),\n",
        "    ],\n",
        "    name=\"generator\",\n",
        ")"
      ]
    },
    {
      "cell_type": "code",
      "execution_count": 10,
      "metadata": {
        "id": "HsKcn0asePcm"
      },
      "outputs": [],
      "source": [
        "\n",
        "class ConditionalGAN(keras.Model):\n",
        "    def __init__(self, discriminator, generator, latent_dim):\n",
        "        super(ConditionalGAN, self).__init__()\n",
        "        self.discriminator = discriminator\n",
        "        self.generator = generator\n",
        "        self.latent_dim = latent_dim\n",
        "        self.gen_loss_tracker = keras.metrics.Mean(name=\"generator_loss\")\n",
        "        self.disc_loss_tracker = keras.metrics.Mean(name=\"discriminator_loss\")\n",
        "\n",
        "    @property\n",
        "    def metrics(self):\n",
        "        return [self.gen_loss_tracker, self.disc_loss_tracker]\n",
        "\n",
        "    def compile(self, d_optimizer, g_optimizer, loss_fn):\n",
        "        super(ConditionalGAN, self).compile()\n",
        "        self.d_optimizer = d_optimizer\n",
        "        self.g_optimizer = g_optimizer\n",
        "        self.loss_fn = loss_fn\n",
        "\n",
        "    def train_step(self, data):\n",
        "        # Unpack the data.\n",
        "        real_images, one_hot_labels = data\n",
        "\n",
        "        # Add dummy dimensions to the labels so that they can be concatenated with\n",
        "        # the images. This is for the discriminator.\n",
        "        image_one_hot_labels = one_hot_labels[:, :, None, None]\n",
        "        image_one_hot_labels = tf.repeat(\n",
        "            image_one_hot_labels, repeats=[image_size * image_size]\n",
        "        )\n",
        "        image_one_hot_labels = tf.reshape(\n",
        "            image_one_hot_labels, (-1, image_size, image_size, num_classes)\n",
        "        )\n",
        "\n",
        "        # Sample random points in the latent space and concatenate the labels.\n",
        "        # This is for the generator.\n",
        "        batch_size = tf.shape(real_images)[0]\n",
        "        random_latent_vectors = tf.random.normal(shape=(batch_size, self.latent_dim))\n",
        "        random_vector_labels = tf.concat(\n",
        "            [random_latent_vectors, one_hot_labels], axis=1\n",
        "        )\n",
        "\n",
        "        # Decode the noise (guided by labels) to fake images.\n",
        "        generated_images = self.generator(random_vector_labels)\n",
        "\n",
        "        # Combine them with real images. Note that we are concatenating the labels\n",
        "        # with these images here.\n",
        "        fake_image_and_labels = tf.concat([generated_images, image_one_hot_labels], -1)\n",
        "        real_image_and_labels = tf.concat([real_images, image_one_hot_labels], -1)\n",
        "        combined_images = tf.concat(\n",
        "            [fake_image_and_labels, real_image_and_labels], axis=0\n",
        "        )\n",
        "\n",
        "        # Assemble labels discriminating real from fake images.\n",
        "        labels = tf.concat(\n",
        "            [tf.ones((batch_size, 1)), tf.zeros((batch_size, 1))], axis=0\n",
        "        )\n",
        "\n",
        "        # Train the discriminator.\n",
        "        with tf.GradientTape() as tape:\n",
        "            predictions = self.discriminator(combined_images)\n",
        "            d_loss = self.loss_fn(labels, predictions)\n",
        "        grads = tape.gradient(d_loss, self.discriminator.trainable_weights)\n",
        "        self.d_optimizer.apply_gradients(\n",
        "            zip(grads, self.discriminator.trainable_weights)\n",
        "        )\n",
        "\n",
        "        # Sample random points in the latent space.\n",
        "        random_latent_vectors = tf.random.normal(shape=(batch_size, self.latent_dim))\n",
        "        random_vector_labels = tf.concat(\n",
        "            [random_latent_vectors, one_hot_labels], axis=1\n",
        "        )\n",
        "\n",
        "        # Assemble labels that say \"all real images\".\n",
        "        misleading_labels = tf.zeros((batch_size, 1))\n",
        "\n",
        "        # Train the generator (note that we should *not* update the weights\n",
        "        # of the discriminator)!\n",
        "        with tf.GradientTape() as tape:\n",
        "            fake_images = self.generator(random_vector_labels)\n",
        "            fake_image_and_labels = tf.concat([fake_images, image_one_hot_labels], -1)\n",
        "            predictions = self.discriminator(fake_image_and_labels)\n",
        "            g_loss = self.loss_fn(misleading_labels, predictions)\n",
        "        grads = tape.gradient(g_loss, self.generator.trainable_weights)\n",
        "        self.g_optimizer.apply_gradients(zip(grads, self.generator.trainable_weights))\n",
        "\n",
        "        # Monitor loss.\n",
        "        self.gen_loss_tracker.update_state(g_loss)\n",
        "        self.disc_loss_tracker.update_state(d_loss)\n",
        "        return {\n",
        "            \"g_loss\": self.gen_loss_tracker.result(),\n",
        "            \"d_loss\": self.disc_loss_tracker.result(),\n",
        "        }\n"
      ]
    },
    {
      "cell_type": "code",
      "execution_count": 13,
      "metadata": {
        "colab": {
          "base_uri": "https://localhost:8080/",
          "height": 779
        },
        "id": "nyTr90v2ePco",
        "outputId": "4da37a40-f07d-4152-c8b5-1d799a7681ab"
      },
      "outputs": [
        {
          "name": "stdout",
          "output_type": "stream",
          "text": [
            "Epoch 1/10\n",
            "7/7 [==============================] - 9s 1s/step - g_loss: 0.6895 - d_loss: 0.6933\n",
            "Epoch 2/10\n",
            "7/7 [==============================] - 7s 924ms/step - g_loss: 0.6923 - d_loss: 0.6932\n",
            "Epoch 3/10\n",
            "7/7 [==============================] - 7s 967ms/step - g_loss: 0.6927 - d_loss: 0.6932\n",
            "Epoch 4/10\n",
            "7/7 [==============================] - 7s 930ms/step - g_loss: 0.6930 - d_loss: 0.6932\n",
            "Epoch 5/10\n",
            "7/7 [==============================] - 7s 931ms/step - g_loss: 0.6929 - d_loss: 0.6932\n",
            "Epoch 6/10\n",
            "7/7 [==============================] - 7s 931ms/step - g_loss: 0.6921 - d_loss: 0.6933\n",
            "Epoch 7/10\n",
            "7/7 [==============================] - 7s 934ms/step - g_loss: 0.6920 - d_loss: 0.6932\n",
            "Epoch 8/10\n",
            "7/7 [==============================] - 7s 957ms/step - g_loss: 0.6934 - d_loss: 0.6931\n",
            "Epoch 9/10\n",
            "7/7 [==============================] - 7s 932ms/step - g_loss: 0.6928 - d_loss: 0.6931\n",
            "Epoch 10/10\n",
            "7/7 [==============================] - 7s 1s/step - g_loss: 0.6928 - d_loss: 0.6931\n"
          ]
        }
      ],
      "source": [
        "cond_gan = ConditionalGAN(\n",
        "    discriminator=discriminator, generator=generator, latent_dim=latent_dim\n",
        ")\n",
        "cond_gan.compile(\n",
        "    d_optimizer=keras.optimizers.Adam(learning_rate=0.0002,beta_1 = 0.5),\n",
        "    g_optimizer=keras.optimizers.Adam(learning_rate=0.0002, beta_1 = 0.5),\n",
        "    loss_fn=keras.losses.BinaryCrossentropy(from_logits=True),\n",
        ")\n",
        "\n",
        "# fit the model\n",
        "model = cond_gan.fit(dataset,batch_size=batch_size,epochs= epochs,verbose=1)"
      ]
    },
    {
      "cell_type": "code",
      "execution_count": 12,
      "metadata": {
        "id": "H4gLUKZpePcr"
      },
      "outputs": [
        {
          "name": "stdout",
          "output_type": "stream",
          "text": [
            "WARNING:tensorflow:Compiled the loaded model, but the compiled metrics have yet to be built. `model.compile_metrics` will be empty until you train or evaluate the model.\n"
          ]
        }
      ],
      "source": [
        "# save the generator model tile file\n",
        "filename = 'generator_model_20.h5'\n",
        "generator.save(filename)"
      ]
    }
  ],
  "metadata": {
    "accelerator": "GPU",
    "colab": {
      "provenance": []
    },
    "gpuClass": "standard",
    "kernelspec": {
      "display_name": "Python 3.9.12 ('base')",
      "language": "python",
      "name": "python3"
    },
    "language_info": {
      "codemirror_mode": {
        "name": "ipython",
        "version": 3
      },
      "file_extension": ".py",
      "mimetype": "text/x-python",
      "name": "python",
      "nbconvert_exporter": "python",
      "pygments_lexer": "ipython3",
      "version": "3.9.12"
    },
    "orig_nbformat": 4,
    "vscode": {
      "interpreter": {
        "hash": "7ea7a77ecd2a485eceffd449bc1af6fd531f9977eeaf62715f4447faafab5e7d"
      }
    }
  },
  "nbformat": 4,
  "nbformat_minor": 0
}
