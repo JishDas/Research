{
 "cells": [
  {
   "cell_type": "code",
   "execution_count": 1,
   "metadata": {},
   "outputs": [
    {
     "name": "stderr",
     "output_type": "stream",
     "text": [
      "2022-12-06 22:33:30.511176: W tensorflow/stream_executor/platform/default/dso_loader.cc:64] Could not load dynamic library 'libcudart.so.11.0'; dlerror: libcudart.so.11.0: cannot open shared object file: No such file or directory\n",
      "2022-12-06 22:33:30.511206: I tensorflow/stream_executor/cuda/cudart_stub.cc:29] Ignore above cudart dlerror if you do not have a GPU set up on your machine.\n",
      "2022-12-06 22:33:35.830291: E tensorflow/stream_executor/cuda/cuda_driver.cc:271] failed call to cuInit: CUDA_ERROR_NO_DEVICE: no CUDA-capable device is detected\n",
      "2022-12-06 22:33:35.830323: I tensorflow/stream_executor/cuda/cuda_diagnostics.cc:156] kernel driver does not appear to be running on this host (jishnu): /proc/driver/nvidia/version does not exist\n",
      "2022-12-06 22:33:35.830614: I tensorflow/core/platform/cpu_feature_guard.cc:193] This TensorFlow binary is optimized with oneAPI Deep Neural Network Library (oneDNN) to use the following CPU instructions in performance-critical operations:  AVX2 FMA\n",
      "To enable them in other operations, rebuild TensorFlow with the appropriate compiler flags.\n"
     ]
    }
   ],
   "source": [
    "from keras.models import load_model\n",
    "from numpy.random import randn\n",
    "from matplotlib import pyplot as plt\n",
    "import tensorflow as tf\n",
    "import numpy as np\n",
    "from math import sqrt, ceil\n",
    "\n",
    "num_classes = 21\n",
    "model = load_model('generator_model_20.h5',compile=False)\n",
    "\n",
    "def generate_latent_points(dimensions, latent_dim, n_samples = 1, n_classes=num_classes):\n",
    "\t# generate points in the latent space\n",
    "\trandom_latent_vectors = tf.random.normal(shape=(n_samples, latent_dim))\n",
    "\tlabels = tf.keras.utils.to_categorical([dimensions for _ in range(n_samples)], n_classes)\n",
    "\treturn tf.concat([random_latent_vectors, labels], 1)"
   ]
  },
  {
   "cell_type": "code",
   "execution_count": 2,
   "metadata": {},
   "outputs": [],
   "source": [
    "def generate_matrices(dimensions, n_samples =1):\n",
    "    if dimensions in range(num_classes):\n",
    "        latent_dim = 400\n",
    "        random_vector_labels = generate_latent_points(int(dimensions), latent_dim, int(n_samples))\n",
    "        examples = model.predict(random_vector_labels)\n",
    "        examples = examples * 255.0\n",
    "        size = ceil(sqrt(n_samples))\n",
    "        matrices = np.zeros((20*size, 20*size), dtype=float)\n",
    "        n = 0\n",
    "        for i in range(size):\n",
    "            for j in range(size):\n",
    "                if n == n_samples:\n",
    "                    break\n",
    "                matrices[i* 20 : (i+1)*20, j*20 : (j+1)*20] = examples[n, :, :, 0]\n",
    "                n += 1\n",
    "        # 255/2 = 127.5\n",
    "        matrices = (matrices/127.5) -1\n",
    "        return matrices\n"
   ]
  },
  {
   "cell_type": "code",
   "execution_count": 8,
   "metadata": {},
   "outputs": [
    {
     "name": "stdout",
     "output_type": "stream",
     "text": [
      "1/1 [==============================] - 0s 37ms/step\n"
     ]
    }
   ],
   "source": [
    "matrix = generate_matrices(15)"
   ]
  },
  {
   "cell_type": "code",
   "execution_count": 9,
   "metadata": {},
   "outputs": [
    {
     "data": {
      "text/plain": [
       "<matplotlib.image.AxesImage at 0x7f96ad9c9640>"
      ]
     },
     "execution_count": 9,
     "metadata": {},
     "output_type": "execute_result"
    },
    {
     "data": {
      "image/png": "[encoded data removed]",
      "text/plain": [
       "<Figure size 432x288 with 1 Axes>"
      ]
     },
     "metadata": {
      "needs_background": "light"
     },
     "output_type": "display_data"
    }
   ],
   "source": [
    "plt.imshow(matrix,cmap='gray')"
   ]
  }
 ],
 "metadata": {
  "kernelspec": {
   "display_name": "Python 3.9.12 ('base')",
   "language": "python",
   "name": "python3"
  },
  "language_info": {
   "codemirror_mode": {
    "name": "ipython",
    "version": 3
   },
   "file_extension": ".py",
   "mimetype": "text/x-python",
   "name": "python",
   "nbconvert_exporter": "python",
   "pygments_lexer": "ipython3",
   "version": "3.9.12"
  },
  "orig_nbformat": 4,
  "vscode": {
   "interpreter": {
    "hash": "7ea7a77ecd2a485eceffd449bc1af6fd531f9977eeaf62715f4447faafab5e7d"
   }
  }
 },
 "nbformat": 4,
 "nbformat_minor": 2
}
