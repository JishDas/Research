{
 "cells": [
  {
   "cell_type": "code",
   "execution_count": null,
   "metadata": {},
   "outputs": [],
   "source": [
    "from keras.models import load_model\n",
    "from numpy.random import randn\n",
    "from matplotlib import pyplot as plt\n",
    "import tensorflow as tf\n",
    "import numpy as np\n",
    "from math import sqrt, ceil\n",
    "\n",
    "num_classes = 20\n",
    "model = load_model('generator_model_200.h5',compile=False)\n",
    "\n",
    "def generate_latent_points(dimensions, latent_dim, n_samples = 1, n_classes=num_classes):\n",
    "\t# generate points in the latent space\n",
    "\trandom_latent_vectors = tf.random.normal(shape=(n_samples, latent_dim))\n",
    "\tlabels = tf.keras.utils.to_categorical([dimensions for _ in range(n_samples)], n_classes)\n",
    "\treturn tf.concat([random_latent_vectors, labels], 1)"
   ]
  },
  {
   "cell_type": "code",
   "execution_count": null,
   "metadata": {},
   "outputs": [],
   "source": [
    "def generate_matrices(dimensions, n_samples =1):\n",
    "    if dimensions in range(num_classes):\n",
    "        latent_dim = 400\n",
    "        random_vector_labels = generate_latent_points(int(dimensions), latent_dim, int(n_samples))\n",
    "        examples = model.predict(random_vector_labels)\n",
    "        examples = examples * 255.0\n",
    "        size = ceil(sqrt(n_samples))\n",
    "        matrices = np.zeros((20*size, 20*size), dtype=float)\n",
    "        n = 0\n",
    "        for i in range(size):\n",
    "            for j in range(size):\n",
    "                if n == n_samples:\n",
    "                    break\n",
    "                matrices[i* 20 : (i+1)*20, j*20 : (j+1)*20] = examples[n, :, :, 0]\n",
    "                n += 1\n",
    "        # 255/2 = 127.5\n",
    "        matrices = (matrices/127.5) -1\n",
    "        return matrices\n"
   ]
  },
  {
   "cell_type": "code",
   "execution_count": null,
   "metadata": {},
   "outputs": [],
   "source": [
    "matrix = generate_matrices(15)\n",
    "\n",
    "plt.imshow(matrix,cmap='gray')"
   ]
  }
 ],
 "metadata": {
  "kernelspec": {
   "display_name": "Python 3.9.12 ('base')",
   "language": "python",
   "name": "python3"
  },
  "language_info": {
   "name": "python",
   "version": "3.9.12"
  },
  "orig_nbformat": 4,
  "vscode": {
   "interpreter": {
    "hash": "7ea7a77ecd2a485eceffd449bc1af6fd531f9977eeaf62715f4447faafab5e7d"
   }
  }
 },
 "nbformat": 4,
 "nbformat_minor": 2
}
